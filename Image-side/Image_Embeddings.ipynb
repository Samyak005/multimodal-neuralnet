{
  "nbformat": 4,
  "nbformat_minor": 0,
  "metadata": {
    "colab": {
      "name": "Image_Embeddings.ipynb",
      "provenance": [],
      "collapsed_sections": []
    },
    "kernelspec": {
      "name": "python3",
      "display_name": "Python 3"
    }
  },
  "cells": [
    {
      "cell_type": "code",
      "metadata": {
        "id": "7zoUDNKzLGje",
        "colab_type": "code",
        "colab": {}
      },
      "source": [
        "from PIL import Image\n",
        "import glob\n",
        "images = []\n",
        "for filename in glob.glob('/content/train_set/*.jpg'): \n",
        "    im=Image.open(filename)\n",
        "    images.append(im)"
      ],
      "execution_count": null,
      "outputs": []
    },
    {
      "cell_type": "code",
      "metadata": {
        "id": "OjP0SLRfER9p",
        "colab_type": "code",
        "colab": {}
      },
      "source": [
        "import torch\n",
        "import torch.nn as nn\n",
        "import torchvision.models as models\n",
        "import torchvision.transforms as transforms\n",
        "from torch.autograd import Variable\n",
        "from PIL import Image"
      ],
      "execution_count": null,
      "outputs": []
    },
    {
      "cell_type": "code",
      "metadata": {
        "id": "3XBojhIfUNTl",
        "colab_type": "code",
        "colab": {}
      },
      "source": [
        "def preprocess(img):\n",
        "  scaler = transforms.Resize((224,224))\n",
        "  normalize = transforms.Normalize(mean=[0.485, 0.456, 0.406],\n",
        "                                   std=[0.229, 0.224, 0.225])\n",
        "  to_tensor = transforms.ToTensor()\n",
        "  t_img = Variable(normalize(to_tensor(scaler(img))).unsqueeze(0))\n",
        "  return t_img"
      ],
      "execution_count": null,
      "outputs": []
    },
    {
      "cell_type": "code",
      "metadata": {
        "id": "32Fz8TpiNELH",
        "colab_type": "code",
        "colab": {}
      },
      "source": [
        "preprocess_image = []\n",
        "for img in images:\n",
        "  t_img = preprocess(img)\n",
        "  preprocess_image.append(t_img)"
      ],
      "execution_count": null,
      "outputs": []
    },
    {
      "cell_type": "code",
      "metadata": {
        "id": "XmPP07E6MtyE",
        "colab_type": "code",
        "colab": {}
      },
      "source": [
        "image_tensor = torch.Tensor(len(preprocess_image), 3, 224, 224)\n",
        "torch.cat(preprocess_image, out=image_tensor)"
      ],
      "execution_count": null,
      "outputs": []
    },
    {
      "cell_type": "code",
      "metadata": {
        "id": "KoTmyn0KYWzx",
        "colab_type": "code",
        "colab": {
          "base_uri": "https://localhost:8080/",
          "height": 83,
          "referenced_widgets": [
            "96a57fc1643d4759939d22288316197f",
            "f6debd2f908a4719aeb3062250de3304",
            "12656036ae66459bb1de9598818f5ce9",
            "98ff7132ae1a4614bf0313a0e1f7c7e8",
            "79d58095fb594fbba94a3cb39f364c80",
            "ac0a0596100f443784eecd52270b40bc",
            "2154b83358be4915b16b6d5fc3a87ed9",
            "53191593f44641fca2a3f349fb927597"
          ]
        },
        "outputId": "f620bece-31e6-445c-bf3a-0b22022ebd56"
      },
      "source": [
        "import torch\n",
        "import torch.nn as nn\n",
        "import torchvision.models as models\n",
        "from torch.autograd import Variable\n",
        "resnet50 = models.resnet50(pretrained=True)\n",
        "modules=list(resnet50.children())[:-1]\n",
        "resnet50=nn.Sequential(*modules)\n",
        "for p in resnet50.parameters():\n",
        "    p.requires_grad = False"
      ],
      "execution_count": null,
      "outputs": [
        {
          "output_type": "stream",
          "text": [
            "Downloading: \"https://download.pytorch.org/models/resnet50-19c8e357.pth\" to /root/.cache/torch/hub/checkpoints/resnet50-19c8e357.pth\n"
          ],
          "name": "stderr"
        },
        {
          "output_type": "display_data",
          "data": {
            "application/vnd.jupyter.widget-view+json": {
              "model_id": "96a57fc1643d4759939d22288316197f",
              "version_minor": 0,
              "version_major": 2
            },
            "text/plain": [
              "HBox(children=(FloatProgress(value=0.0, max=102502400.0), HTML(value='')))"
            ]
          },
          "metadata": {
            "tags": []
          }
        },
        {
          "output_type": "stream",
          "text": [
            "\n"
          ],
          "name": "stdout"
        }
      ]
    },
    {
      "cell_type": "code",
      "metadata": {
        "id": "AOLVlt7zp9ud",
        "colab_type": "code",
        "colab": {}
      },
      "source": [
        "#Load the dataset here\n"
      ],
      "execution_count": null,
      "outputs": []
    },
    {
      "cell_type": "code",
      "metadata": {
        "id": "R15BiX0MqFKT",
        "colab_type": "code",
        "colab": {}
      },
      "source": [
        "output = resnet50(image_tensor)"
      ],
      "execution_count": null,
      "outputs": []
    },
    {
      "cell_type": "code",
      "metadata": {
        "id": "ByQLVVB2qTIS",
        "colab_type": "code",
        "colab": {}
      },
      "source": [
        "#Save the image embeddings in a pickle file: Image.pkl"
      ],
      "execution_count": null,
      "outputs": []
    }
  ]
}